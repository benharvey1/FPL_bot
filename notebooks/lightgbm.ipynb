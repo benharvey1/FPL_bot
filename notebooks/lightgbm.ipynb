{
 "cells": [
  {
   "cell_type": "markdown",
   "metadata": {},
   "source": [
    "### LGBM Regressor\n",
    "\n",
    "We train a LGBM Regressor for each position to predict the number of points each player will score. We use `optuna` to find the best values for model hyperparameters using Bayesian Optimisation."
   ]
  },
  {
   "cell_type": "code",
   "execution_count": 1,
   "metadata": {},
   "outputs": [],
   "source": [
    "import pandas as pd\n",
    "\n",
    "# add 'over_60_minutes' column\n",
    "df = pd.read_csv(r\"C:\\Users\\harve\\OneDrive\\Documents\\Python\\VScodeprojects\\FPLbot\\previous_seasons_dataset.csv\")\n",
    "df['over_60_minutes'] = (df['minutes'] >= 60).astype(int)"
   ]
  },
  {
   "cell_type": "code",
   "execution_count": 2,
   "metadata": {},
   "outputs": [
    {
     "name": "stderr",
     "output_type": "stream",
     "text": [
      "c:\\Users\\harve\\AppData\\Local\\Programs\\Python\\Python312\\Lib\\site-packages\\tqdm\\auto.py:21: TqdmWarning: IProgress not found. Please update jupyter and ipywidgets. See https://ipywidgets.readthedocs.io/en/stable/user_install.html\n",
      "  from .autonotebook import tqdm as notebook_tqdm\n"
     ]
    },
    {
     "name": "stdout",
     "output_type": "stream",
     "text": [
      "Best LGBM params for GK: {'n_estimators': 51, 'learning_rate': 0.012291234169711234, 'num_leaves': 123, 'max_depth': 3, 'min_child_samples': 82, 'subsample': 0.5766104770230416, 'colsample_bytree': 0.31966982235901564}, RMSE: 2.8004195535984526\n",
      "Best LGBM params for DEF: {'n_estimators': 533, 'learning_rate': 0.014113481150412267, 'num_leaves': 191, 'max_depth': 26, 'min_child_samples': 14, 'subsample': 0.7375579848649274, 'colsample_bytree': 0.4835634875278364}, RMSE: 2.254656868443535\n",
      "Best LGBM params for MID: {'n_estimators': 166, 'learning_rate': 0.019389049124094237, 'num_leaves': 117, 'max_depth': 46, 'min_child_samples': 83, 'subsample': 0.816178334679264, 'colsample_bytree': 0.6007820089745433}, RMSE: 3.0285287436964134\n",
      "Best LGBM params for FWD: {'n_estimators': 253, 'learning_rate': 0.01954599037711251, 'num_leaves': 97, 'max_depth': 4, 'min_child_samples': 69, 'subsample': 0.5801920947265934, 'colsample_bytree': 0.7886548880165467}, RMSE: 3.5826761256463797\n"
     ]
    }
   ],
   "source": [
    "import optuna\n",
    "from lightgbm import LGBMRegressor\n",
    "import logging\n",
    "import warnings\n",
    "from sklearn.model_selection import train_test_split, cross_val_score\n",
    "from sklearn.metrics import mean_squared_error, r2_score\n",
    "from sklearn.preprocessing import StandardScaler\n",
    "import numpy as np\n",
    "\n",
    "warnings.filterwarnings(\"ignore\")\n",
    "optuna.logging.set_verbosity(optuna.logging.WARNING)\n",
    "\n",
    "def objective(trial, position):\n",
    "    \n",
    "    data = df[(df['position'] == position) & (df['over_60_minutes'] == 1)]\n",
    "    \n",
    "    x = data[['team_market_value', 'opponent_market_value', 'value', 'was_home', 'points_last_game', 'total_points', 'mins_last_game',\n",
    "              'total_mins', 'mean_points_last_3', 'mean_mins_last_3', 'mean_points_last_5', 'mean_mins_last_5', 'mean_points_last_10', \n",
    "              'mean_mins_last_10', 'team_points_last_game', 'total_team_points', 'mean_team_points_last_3', 'mean_team_points_last_5',\n",
    "              'mean_team_points_last_10', 'team_conceded_last_game', 'total_team_conceded', \n",
    "              'mean_team_conceded_last_3', 'mean_team_conceded_last_5', 'mean_team_conceded_last_10', 'total_opponent_points',\n",
    "              'opponent_points_last_game', 'mean_opponent_points_last_3', 'mean_opponent_points_last_5', 'mean_opponent_points_last_10',\n",
    "              'total_opponent_conceded', 'opponent_conceded_last_game', 'mean_opponent_conceded_last_3', 'mean_opponent_conceded_last_5',\n",
    "              'mean_opponent_conceded_last_10', 'total_points_last_season', 'total_mins_last_season', 'total_team_points_last_season',\n",
    "              'total_team_conceded_last_season', 'total_opponent_points_last_season', 'total_opponent_conceded_last_season']] \n",
    "    \n",
    "    y = data['points']\n",
    "\n",
    "    x_train, x_test, y_train, y_test = train_test_split(x, y, test_size=0.2, random_state=42)\n",
    "\n",
    "    n_estimators = trial.suggest_int('n_estimators', 50, 700)\n",
    "    learning_rate = trial.suggest_float('learning_rate', 0.01, 0.2, log=True)\n",
    "    num_leaves = trial.suggest_int('num_leaves', 50, 200)\n",
    "    max_depth = trial.suggest_int('max_depth', 3, 50)\n",
    "    min_child_samples = trial.suggest_int('min_child_samples', 10, 100)\n",
    "    subsample = trial.suggest_float('subsample', 0.3, 1.0)\n",
    "    colsample_bytree = trial.suggest_float('colsample_bytree', 0.3, 1.0)\n",
    "\n",
    "    model = LGBMRegressor(n_estimators=n_estimators, learning_rate=learning_rate, num_leaves=num_leaves, max_depth=max_depth,\n",
    "                              min_child_samples=min_child_samples, subsample=subsample, colsample_bytree=colsample_bytree, random_state=42, verbose=-1)\n",
    "\n",
    "    model.fit(x_train, y_train)\n",
    "    y_pred = model.predict(x_test)\n",
    "    rmse = np.sqrt(mean_squared_error(y_test, y_pred))\n",
    "\n",
    "    return rmse\n",
    "\n",
    "\n",
    "def run_optimization(df, positions):\n",
    "    best_params = {}\n",
    "    for position in positions:\n",
    "    \n",
    "        study_lgbm = optuna.create_study(direction='minimize')\n",
    "        study_lgbm.optimize(lambda trial: objective(trial, position), n_trials=500)\n",
    "        best_params[(position)] = study_lgbm.best_params\n",
    "        print(f\"Best LGBM params for {position}: {study_lgbm.best_params}, RMSE: {study_lgbm.best_value}\")\n",
    "\n",
    "    return best_params\n",
    "\n",
    "positions = ['GK', 'DEF', 'MID', 'FWD']\n",
    "best_hyperparameters = run_optimization(df, positions)"
   ]
  },
  {
   "cell_type": "markdown",
   "metadata": {},
   "source": [
    "Goalkeepers:"
   ]
  },
  {
   "cell_type": "code",
   "execution_count": 3,
   "metadata": {},
   "outputs": [
    {
     "name": "stdout",
     "output_type": "stream",
     "text": [
      "                              Feature  Importance\n",
      "1               opponent_market_value          28\n",
      "37    total_team_conceded_last_season          24\n",
      "22          mean_team_conceded_last_5          23\n",
      "27        mean_opponent_points_last_5          19\n",
      "38  total_opponent_points_last_season          18\n",
      "0                   team_market_value          17\n",
      "2                               value          17\n",
      "35             total_mins_last_season          17\n",
      "31      mean_opponent_conceded_last_3          16\n",
      "26        mean_opponent_points_last_3          14\n",
      "----------------------------------------------------------------------------------------------------\n",
      "Cross validation scores: [2.79737849 2.7689592  2.74543702 2.80727721 2.80488888]\n",
      "Mean cross validation score: 2.784788160130526\n",
      "RMSE: 2.9845839527518065, R-squared: 0.0059507754630847565\n"
     ]
    }
   ],
   "source": [
    "GK_data = df[(df['position'] == 'GK') & (df['over_60_minutes'] == 1)]\n",
    "GK_points_target = GK_data['points']\n",
    "GK_points_features = GK_data[['team_market_value', 'opponent_market_value', 'value', 'was_home','points_last_game', 'total_points', 'mins_last_game',\n",
    "                        'total_mins', 'mean_points_last_3', 'mean_mins_last_3', 'mean_points_last_5','mean_mins_last_5', 'mean_points_last_10', \n",
    "                        'mean_mins_last_10', 'team_points_last_game', 'total_team_points', 'mean_team_points_last_3', 'mean_team_points_last_5',\n",
    "                        'mean_team_points_last_10', 'team_conceded_last_game', 'total_team_conceded', \n",
    "                        'mean_team_conceded_last_3', 'mean_team_conceded_last_5', 'mean_team_conceded_last_10', 'total_opponent_points',\n",
    "                        'opponent_points_last_game', 'mean_opponent_points_last_3', 'mean_opponent_points_last_5', 'mean_opponent_points_last_10',\n",
    "                        'total_opponent_conceded', 'opponent_conceded_last_game', 'mean_opponent_conceded_last_3', 'mean_opponent_conceded_last_5',\n",
    "                        'mean_opponent_conceded_last_10', 'total_points_last_season', 'total_mins_last_season', 'total_team_points_last_season',\n",
    "                        'total_team_conceded_last_season', 'total_opponent_points_last_season', 'total_opponent_conceded_last_season']]\n",
    "\n",
    "x_train, x_test, y_train, y_test = train_test_split(GK_points_features, GK_points_target, train_size=0.8, test_size=0.2)\n",
    "\n",
    "best_GK_lgbm_params = best_hyperparameters[('GK')]\n",
    "\n",
    "GK_lgbm = LGBMRegressor(n_estimators=best_GK_lgbm_params['n_estimators'], learning_rate=best_GK_lgbm_params['learning_rate'], \n",
    "                        num_leaves = best_GK_lgbm_params['num_leaves'], max_depth = best_GK_lgbm_params['max_depth'], \n",
    "                        min_child_samples = best_GK_lgbm_params['min_child_samples'], subsample = best_GK_lgbm_params['subsample'],\n",
    "                        colsample_bytree = best_GK_lgbm_params['colsample_bytree'], random_state=42)\n",
    "\n",
    "cv_scores = cross_val_score(GK_lgbm, x_train, y_train, cv=5, scoring= 'neg_root_mean_squared_error', n_jobs=-1)\n",
    "GK_lgbm.fit(x_train, y_train)\n",
    "y_pred = GK_lgbm.predict(x_test)\n",
    "RMSE = np.sqrt(mean_squared_error(y_test, y_pred))\n",
    "R_squared = r2_score(y_test, y_pred)\n",
    "\n",
    "importances = GK_lgbm.feature_importances_\n",
    "feature_importance_df = pd.DataFrame({'Feature': GK_points_features.columns, 'Importance': importances})\n",
    "print(feature_importance_df.sort_values(by='Importance', ascending=False).head(10))\n",
    "print(100*'-')\n",
    "\n",
    "print(f'Cross validation scores: {np.abs(cv_scores)}')\n",
    "print(f'Mean cross validation score: {np.abs(np.mean(cv_scores))}')\n",
    "print(f'RMSE: {RMSE}, R-squared: {R_squared}')"
   ]
  },
  {
   "cell_type": "markdown",
   "metadata": {},
   "source": [
    "Defenders:"
   ]
  },
  {
   "cell_type": "code",
   "execution_count": 4,
   "metadata": {},
   "outputs": [
    {
     "name": "stdout",
     "output_type": "stream",
     "text": [
      "                           Feature  Importance\n",
      "35          total_mins_last_season        3576\n",
      "34        total_points_last_season        3222\n",
      "27     mean_opponent_points_last_5        3092\n",
      "17         mean_team_points_last_5        3053\n",
      "7                       total_mins        3050\n",
      "33  mean_opponent_conceded_last_10        3037\n",
      "16         mean_team_points_last_3        2969\n",
      "32   mean_opponent_conceded_last_5        2965\n",
      "26     mean_opponent_points_last_3        2952\n",
      "18        mean_team_points_last_10        2903\n",
      "----------------------------------------------------------------------------------------------------\n",
      "Cross validation scores: [2.40219472 2.51356976 2.46910297 2.46736517 2.32548457]\n",
      "Mean cross validation score: 2.435543434331759\n",
      "RMSE: 2.480400845063206, R-squared: 0.39804778620829584\n"
     ]
    }
   ],
   "source": [
    "DEF_data = df[(df['position'] == 'DEF') & (df['over_60_minutes'] == 1)]\n",
    "DEF_points_target = DEF_data['points']\n",
    "DEF_points_features = DEF_data[['team_market_value', 'opponent_market_value', 'value', 'was_home','points_last_game', 'total_points', 'mins_last_game',\n",
    "                        'total_mins', 'mean_points_last_3', 'mean_mins_last_3', 'mean_points_last_5','mean_mins_last_5', 'mean_points_last_10', \n",
    "                        'mean_mins_last_10', 'team_points_last_game', 'total_team_points', 'mean_team_points_last_3', 'mean_team_points_last_5',\n",
    "                        'mean_team_points_last_10', 'team_conceded_last_game', 'total_team_conceded', \n",
    "                        'mean_team_conceded_last_3', 'mean_team_conceded_last_5', 'mean_team_conceded_last_10', 'total_opponent_points',\n",
    "                        'opponent_points_last_game', 'mean_opponent_points_last_3', 'mean_opponent_points_last_5', 'mean_opponent_points_last_10',\n",
    "                        'total_opponent_conceded', 'opponent_conceded_last_game', 'mean_opponent_conceded_last_3', 'mean_opponent_conceded_last_5',\n",
    "                        'mean_opponent_conceded_last_10', 'total_points_last_season', 'total_mins_last_season', 'total_team_points_last_season',\n",
    "                        'total_team_conceded_last_season', 'total_opponent_points_last_season', 'total_opponent_conceded_last_season']]\n",
    "\n",
    "x_train, x_test, y_train, y_test = train_test_split(DEF_points_features, DEF_points_target, train_size=0.8, test_size=0.2)\n",
    "\n",
    "best_DEF_lgbm_params = best_hyperparameters[('DEF')]\n",
    "\n",
    "DEF_lgbm = LGBMRegressor(n_estimators=best_DEF_lgbm_params['n_estimators'], learning_rate=best_DEF_lgbm_params['learning_rate'], \n",
    "                        num_leaves = best_DEF_lgbm_params['num_leaves'], max_depth = best_DEF_lgbm_params['max_depth'], \n",
    "                        min_child_samples = best_DEF_lgbm_params['min_child_samples'], subsample = best_DEF_lgbm_params['subsample'],\n",
    "                        colsample_bytree = best_DEF_lgbm_params['colsample_bytree'], random_state=42)\n",
    "\n",
    "cv_scores = cross_val_score(DEF_lgbm, x_train, y_train, cv=5, scoring= 'neg_root_mean_squared_error', n_jobs=-1)\n",
    "DEF_lgbm.fit(x_train, y_train)\n",
    "y_pred = DEF_lgbm.predict(x_test)\n",
    "RMSE = np.sqrt(mean_squared_error(y_test, y_pred))\n",
    "R_squared = r2_score(y_test, y_pred)\n",
    "\n",
    "importances = DEF_lgbm.feature_importances_\n",
    "feature_importance_df = pd.DataFrame({'Feature': DEF_points_features.columns, 'Importance': importances})\n",
    "print(feature_importance_df.sort_values(by='Importance', ascending=False).head(10))\n",
    "print(100*'-')\n",
    "\n",
    "print(f'Cross validation scores: {np.abs(cv_scores)}')\n",
    "print(f'Mean cross validation score: {np.abs(np.mean(cv_scores))}')\n",
    "print(f'RMSE: {RMSE}, R-squared: {R_squared}')"
   ]
  },
  {
   "cell_type": "markdown",
   "metadata": {},
   "source": [
    "Midfielders:"
   ]
  },
  {
   "cell_type": "code",
   "execution_count": 5,
   "metadata": {},
   "outputs": [
    {
     "name": "stdout",
     "output_type": "stream",
     "text": [
      "                                Feature  Importance\n",
      "1                 opponent_market_value         610\n",
      "34             total_points_last_season         550\n",
      "2                                 value         541\n",
      "5                          total_points         529\n",
      "35               total_mins_last_season         511\n",
      "39  total_opponent_conceded_last_season         497\n",
      "32        mean_opponent_conceded_last_5         493\n",
      "33       mean_opponent_conceded_last_10         487\n",
      "28         mean_opponent_points_last_10         486\n",
      "16              mean_team_points_last_3         469\n",
      "----------------------------------------------------------------------------------------------------\n",
      "Cross validation scores: [2.786425   2.91896008 3.05479219 3.11931927 3.02875766]\n",
      "Mean cross validation score: 2.9816508416361316\n",
      "RMSE: 2.953347961187858, R-squared: 0.11050489459233215\n"
     ]
    }
   ],
   "source": [
    "MID_data = df[(df['position'] == 'MID') & (df['over_60_minutes'] == 1)]\n",
    "MID_points_target = MID_data['points']\n",
    "MID_points_features = MID_data[['team_market_value', 'opponent_market_value', 'value', 'was_home','points_last_game', 'total_points', 'mins_last_game',\n",
    "                        'total_mins', 'mean_points_last_3', 'mean_mins_last_3', 'mean_points_last_5','mean_mins_last_5', 'mean_points_last_10', \n",
    "                        'mean_mins_last_10', 'team_points_last_game', 'total_team_points', 'mean_team_points_last_3', 'mean_team_points_last_5',\n",
    "                        'mean_team_points_last_10', 'team_conceded_last_game', 'total_team_conceded', \n",
    "                        'mean_team_conceded_last_3', 'mean_team_conceded_last_5', 'mean_team_conceded_last_10', 'total_opponent_points',\n",
    "                        'opponent_points_last_game', 'mean_opponent_points_last_3', 'mean_opponent_points_last_5', 'mean_opponent_points_last_10',\n",
    "                        'total_opponent_conceded', 'opponent_conceded_last_game', 'mean_opponent_conceded_last_3', 'mean_opponent_conceded_last_5',\n",
    "                        'mean_opponent_conceded_last_10', 'total_points_last_season', 'total_mins_last_season', 'total_team_points_last_season',\n",
    "                        'total_team_conceded_last_season', 'total_opponent_points_last_season', 'total_opponent_conceded_last_season']]\n",
    "\n",
    "x_train, x_test, y_train, y_test = train_test_split(MID_points_features, MID_points_target, train_size=0.8, test_size=0.2)\n",
    "\n",
    "best_MID_lgbm_params = best_hyperparameters[('MID')]\n",
    "\n",
    "MID_lgbm = LGBMRegressor(n_estimators=best_MID_lgbm_params['n_estimators'], learning_rate=best_MID_lgbm_params['learning_rate'], \n",
    "                        num_leaves = best_MID_lgbm_params['num_leaves'], max_depth = best_MID_lgbm_params['max_depth'], \n",
    "                        min_child_samples = best_MID_lgbm_params['min_child_samples'], subsample = best_MID_lgbm_params['subsample'],\n",
    "                        colsample_bytree = best_MID_lgbm_params['colsample_bytree'], random_state=42)\n",
    "\n",
    "cv_scores = cross_val_score(MID_lgbm, x_train, y_train, cv=5, scoring= 'neg_root_mean_squared_error', n_jobs=-1)\n",
    "MID_lgbm.fit(x_train, y_train)\n",
    "y_pred = MID_lgbm.predict(x_test)\n",
    "RMSE = np.sqrt(mean_squared_error(y_test, y_pred))\n",
    "R_squared = r2_score(y_test, y_pred)\n",
    "\n",
    "importances = MID_lgbm.feature_importances_\n",
    "feature_importance_df = pd.DataFrame({'Feature': MID_points_features.columns, 'Importance': importances})\n",
    "print(feature_importance_df.sort_values(by='Importance', ascending=False).head(10))\n",
    "print(100*'-')\n",
    "\n",
    "print(f'Cross validation scores: {np.abs(cv_scores)}')\n",
    "print(f'Mean cross validation score: {np.abs(np.mean(cv_scores))}')\n",
    "print(f'RMSE: {RMSE}, R-squared: {R_squared}')"
   ]
  },
  {
   "cell_type": "markdown",
   "metadata": {},
   "source": [
    "Forwards:"
   ]
  },
  {
   "cell_type": "code",
   "execution_count": 6,
   "metadata": {},
   "outputs": [
    {
     "name": "stdout",
     "output_type": "stream",
     "text": [
      "                            Feature  Importance\n",
      "1             opponent_market_value         110\n",
      "24            total_opponent_points          98\n",
      "17          mean_team_points_last_5          94\n",
      "29          total_opponent_conceded          80\n",
      "37  total_team_conceded_last_season          71\n",
      "18         mean_team_points_last_10          67\n",
      "2                             value          67\n",
      "0                 team_market_value          66\n",
      "25        opponent_points_last_game          65\n",
      "8                mean_points_last_3          58\n",
      "----------------------------------------------------------------------------------------------------\n",
      "Cross validation scores: [3.41305425 3.80269376 3.50297521 3.48183161 3.57050875]\n",
      "Mean cross validation score: 3.5542127150163845\n",
      "RMSE: 3.4834586384965682, R-squared: 0.06233598722605149\n"
     ]
    }
   ],
   "source": [
    "FWD_data = df[(df['position'] == 'FWD') & (df['over_60_minutes'] == 1)]\n",
    "FWD_points_target = FWD_data['points']\n",
    "FWD_points_features = FWD_data[['team_market_value', 'opponent_market_value', 'value', 'was_home','points_last_game', 'total_points', 'mins_last_game',\n",
    "                        'total_mins', 'mean_points_last_3', 'mean_mins_last_3', 'mean_points_last_5','mean_mins_last_5', 'mean_points_last_10', \n",
    "                        'mean_mins_last_10', 'team_points_last_game', 'total_team_points', 'mean_team_points_last_3', 'mean_team_points_last_5',\n",
    "                        'mean_team_points_last_10', 'team_conceded_last_game', 'total_team_conceded', \n",
    "                        'mean_team_conceded_last_3', 'mean_team_conceded_last_5', 'mean_team_conceded_last_10', 'total_opponent_points',\n",
    "                        'opponent_points_last_game', 'mean_opponent_points_last_3', 'mean_opponent_points_last_5', 'mean_opponent_points_last_10',\n",
    "                        'total_opponent_conceded', 'opponent_conceded_last_game', 'mean_opponent_conceded_last_3', 'mean_opponent_conceded_last_5',\n",
    "                        'mean_opponent_conceded_last_10', 'total_points_last_season', 'total_mins_last_season', 'total_team_points_last_season',\n",
    "                        'total_team_conceded_last_season', 'total_opponent_points_last_season', 'total_opponent_conceded_last_season']]\n",
    "\n",
    "x_train, x_test, y_train, y_test = train_test_split(FWD_points_features, FWD_points_target, train_size=0.8, test_size=0.2)\n",
    "\n",
    "best_FWD_lgbm_params = best_hyperparameters[('FWD')]\n",
    "\n",
    "FWD_lgbm = LGBMRegressor(n_estimators=best_FWD_lgbm_params['n_estimators'], learning_rate=best_FWD_lgbm_params['learning_rate'], \n",
    "                        num_leaves = best_FWD_lgbm_params['num_leaves'], max_depth = best_FWD_lgbm_params['max_depth'], \n",
    "                        min_child_samples = best_FWD_lgbm_params['min_child_samples'], subsample = best_FWD_lgbm_params['subsample'],\n",
    "                        colsample_bytree = best_FWD_lgbm_params['colsample_bytree'], random_state=42)\n",
    "\n",
    "cv_scores = cross_val_score(FWD_lgbm, x_train, y_train, cv=5, scoring= 'neg_root_mean_squared_error', n_jobs=-1)\n",
    "FWD_lgbm.fit(x_train, y_train)\n",
    "y_pred = FWD_lgbm.predict(x_test)\n",
    "RMSE = np.sqrt(mean_squared_error(y_test, y_pred))\n",
    "R_squared = r2_score(y_test, y_pred)\n",
    "\n",
    "importances = FWD_lgbm.feature_importances_\n",
    "feature_importance_df = pd.DataFrame({'Feature': FWD_points_features.columns, 'Importance': importances})\n",
    "print(feature_importance_df.sort_values(by='Importance', ascending=False).head(10))\n",
    "print(100*'-')\n",
    "\n",
    "print(f'Cross validation scores: {np.abs(cv_scores)}')\n",
    "print(f'Mean cross validation score: {np.abs(np.mean(cv_scores))}')\n",
    "print(f'RMSE: {RMSE}, R-squared: {R_squared}')"
   ]
  },
  {
   "cell_type": "code",
   "execution_count": 8,
   "metadata": {},
   "outputs": [
    {
     "data": {
      "text/plain": [
       "['FWD_lgbm.pkl']"
      ]
     },
     "execution_count": 8,
     "metadata": {},
     "output_type": "execute_result"
    }
   ],
   "source": [
    "import joblib\n",
    "\n",
    "joblib.dump(GK_lgbm, 'GK_lgbm.pkl')\n",
    "joblib.dump(DEF_lgbm, 'DEF_lgbm.pkl')\n",
    "joblib.dump(MID_lgbm, 'MID_lgbm.pkl')\n",
    "joblib.dump(FWD_lgbm, 'FWD_lgbm.pkl')"
   ]
  }
 ],
 "metadata": {
  "kernelspec": {
   "display_name": "myenv",
   "language": "python",
   "name": "python3"
  },
  "language_info": {
   "codemirror_mode": {
    "name": "ipython",
    "version": 3
   },
   "file_extension": ".py",
   "mimetype": "text/x-python",
   "name": "python",
   "nbconvert_exporter": "python",
   "pygments_lexer": "ipython3",
   "version": "3.12.2"
  }
 },
 "nbformat": 4,
 "nbformat_minor": 2
}
