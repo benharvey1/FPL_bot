{
 "cells": [
  {
   "cell_type": "markdown",
   "metadata": {},
   "source": [
    "### Training data preparation "
   ]
  },
  {
   "cell_type": "markdown",
   "metadata": {},
   "source": [
    "To train our model we require a dataset for previous FPL seasons. Unfortunately, the FPL API only provides data for the current season - this data will be used to make predictions and optimise our team, but cannot be used for training. \n",
    "<br><br> Luckily, data from previous seasons is available on github (https://github.com/vaastav/Fantasy-Premier-League). Data from the 2020-21, 2021-22, 2022-23 and 2023-24 seasons is used. Various statistics are calculated to incorporate player and team form (see `data_statistics.py` for details), aswell as performance from the previous season. The data is stored in a csv file.\n",
    "<br><br> FPL has a Double Gameweek feature where some teams play 2 games in a single GW (and in other GWs they will not play). To take this into account we introduce a new variable 'total_GW_points' which gives the total number of points scored by a player for that Gamewek. For the majority of cases, the value of 'points' and 'total_GW_points' will be indentical but they may differ in the case of double GWs."
   ]
  },
  {
   "cell_type": "code",
   "execution_count": 1,
   "metadata": {},
   "outputs": [],
   "source": [
    "import pandas as pd\n",
    "import data_statistics\n",
    "\n",
    "# Load the CSV file\n",
    "file_path = 'data/cleaned_merged_seasons.csv'\n",
    "df = pd.read_csv(file_path)\n",
    "\n",
    "df = data_statistics.add_game_number_column(df)\n",
    "df = data_statistics.total_GW_points(df)\n",
    "\n",
    "# Add various features to the data set that incorporate player and team form\n",
    "df = data_statistics.add_player_stats(df)\n",
    "df = data_statistics.add_team_stats(df)\n",
    "df = data_statistics.add_team_conceded_stats(df)\n",
    "df = data_statistics.add_opponent_stats(df)\n",
    "df = df.fillna(0)\n",
    "df = data_statistics.add_previous_season_stats(df)"
   ]
  },
  {
   "cell_type": "markdown",
   "metadata": {},
   "source": [
    "Totals from the 2019-20 season (e.g. total player points, total team points) are also added so there is data for previous season performance for the 2020-21 season."
   ]
  },
  {
   "cell_type": "code",
   "execution_count": 2,
   "metadata": {},
   "outputs": [],
   "source": [
    "players_2020 = pd.read_csv('data/cleaned_players_2020.csv')  # player totals for 2019-20\n",
    "teams_2020 = pd.read_csv('data/teams_2020.csv')  # team totals for 2019-20\n",
    "\n",
    "df = df.merge(players_2020[['name', 'season', 'total_points_last_season', 'total_mins_last_season']], how='left', on=['name', 'season'], suffixes=('', '_2020'))\n",
    "\n",
    "df = df.merge(teams_2020[['team_name', 'season', 'total_team_points_last_season', 'total_team_conceded_last_season']], how='left', on=['team_name', 'season'], suffixes=('', '_2020'))\n",
    "\n",
    "\n",
    "df['total_points_last_season'] = df['total_points_last_season'].combine_first(df['total_points_last_season_2020'])\n",
    "df['total_mins_last_season'] = df['total_mins_last_season'].combine_first(df['total_mins_last_season_2020'])\n",
    "df['total_team_points_last_season'] = df['total_team_points_last_season'].combine_first(df['total_team_points_last_season_2020'])\n",
    "df['total_team_conceded_last_season'] = df['total_team_conceded_last_season'].combine_first(df['total_team_conceded_last_season_2020'])\n",
    "df.drop(columns=['total_points_last_season_2020', 'total_mins_last_season_2020', 'total_team_points_last_season_2020', 'total_team_conceded_last_season_2020'], inplace=True)\n",
    "\n"
   ]
  },
  {
   "cell_type": "markdown",
   "metadata": {},
   "source": [
    "Think its also a good idea to use team market value as a training feature. This provides a single, comparable number that captures relative strength of teams across seasons. The data for this was taken from https://transfermarkt.com and added to the csv file.\n",
    "<br><br> No data is available for previous seasons for new players or newly promoted teams. To get around this, data is used from players with similar values and teams with similar market values."
   ]
  },
  {
   "cell_type": "code",
   "execution_count": 3,
   "metadata": {},
   "outputs": [],
   "source": [
    "# Identify players with missing stats for previous season\n",
    "# Find players with same value and use average of their stats\n",
    "\n",
    "missing_points = df['total_points_last_season'].isna()\n",
    "missing_mins = df['total_mins_last_season'].isna()\n",
    "\n",
    "df.loc[missing_points, 'total_points_last_season'] = df[missing_points].apply(lambda row: data_statistics.closest_players_value(row, df, 'total_points_last_season'), axis=1)\n",
    "df.loc[missing_mins, 'total_mins_last_season'] = df[missing_mins].apply(lambda row: data_statistics.closest_players_value(row, df, 'total_mins_last_season'), axis=1)\n",
    "\n",
    "# Identify teams with missing stats for previous season\n",
    "# Find team with closest market value and use their stats\n",
    "\n",
    "missing_team_points = df['total_team_points_last_season'].isna()\n",
    "missing_team_conceded = df['total_team_conceded_last_season'].isna()\n",
    "\n",
    "def closest_team_stats(row, df, stat_column):\n",
    "    \"\"\"Finds team with closest market value and returns value of 'stat_column' for that team\"\"\"\n",
    "    same_season_teams = df[(df['season'] == row['season']) & (~df[stat_column].isna())]\n",
    "    closest_team = same_season_teams.iloc[(same_season_teams['team_market_value'] - row['team_market_value']).abs().argsort()[:1]]\n",
    "    return closest_team[stat_column].values[0]\n",
    "\n",
    "df.loc[missing_team_points, 'total_team_points_last_season'] = df[missing_team_points].apply(lambda row: closest_team_stats(row, df, 'total_team_points_last_season'), axis=1)\n",
    "df.loc[missing_team_conceded, 'total_team_conceded_last_season'] = df[missing_team_conceded].apply(lambda row: closest_team_stats(row, df, 'total_team_conceded_last_season'), axis=1)\n",
    "\n",
    "# Add statistics about opponent team for each gameweek\n",
    "df = data_statistics.add_previous_opponent_stats(df)\n",
    "\n",
    "# Save the updated DataFrame to a new CSV file\n",
    "output_file_path = 'data/previous_seasons_dataset.csv'\n",
    "df.to_csv(output_file_path, index=False)"
   ]
  },
  {
   "cell_type": "markdown",
   "metadata": {},
   "source": [
    "The Final list of columns in the dataset is given below:"
   ]
  },
  {
   "cell_type": "code",
   "execution_count": 4,
   "metadata": {},
   "outputs": [
    {
     "name": "stdout",
     "output_type": "stream",
     "text": [
      "Index(['season', 'name', 'player_ID', 'position', 'team', 'team_name',\n",
      "       'team_market_value', 'element', 'kickoff_time', 'minutes',\n",
      "       'opponent_team', 'opp_team_name', 'opponent_market_value', 'selected',\n",
      "       'team_a_score', 'team_h_score', 'transfers_balance', 'transfers_in',\n",
      "       'transfers_out', 'value', 'was_home', 'GW', 'points', 'game_number',\n",
      "       'total_GW_points', 'points_last_game', 'total_points', 'mins_last_game',\n",
      "       'total_mins', 'mean_points_last_3', 'mean_mins_last_3',\n",
      "       'mean_points_last_5', 'mean_mins_last_5', 'mean_points_last_10',\n",
      "       'mean_mins_last_10', 'team_points', 'team_points_last_game',\n",
      "       'total_team_points', 'mean_team_points_last_3',\n",
      "       'mean_team_points_last_5', 'mean_team_points_last_10',\n",
      "       'team_conceded_points', 'team_conceded_last_game',\n",
      "       'total_team_conceded', 'mean_team_conceded_last_3',\n",
      "       'mean_team_conceded_last_5', 'mean_team_conceded_last_10',\n",
      "       'total_opponent_points', 'opponent_points_last_game',\n",
      "       'mean_opponent_points_last_3', 'mean_opponent_points_last_5',\n",
      "       'mean_opponent_points_last_10', 'total_opponent_conceded',\n",
      "       'opponent_conceded_last_game', 'mean_opponent_conceded_last_3',\n",
      "       'mean_opponent_conceded_last_5', 'mean_opponent_conceded_last_10',\n",
      "       'total_points_last_season', 'total_mins_last_season',\n",
      "       'total_team_points_last_season', 'total_team_conceded_last_season',\n",
      "       'total_opponent_points_last_season',\n",
      "       'total_opponent_conceded_last_season'],\n",
      "      dtype='object')\n"
     ]
    },
    {
     "ename": "",
     "evalue": "",
     "output_type": "error",
     "traceback": [
      "\u001b[1;31mThe Kernel crashed while executing code in the current cell or a previous cell. \n",
      "\u001b[1;31mPlease review the code in the cell(s) to identify a possible cause of the failure. \n",
      "\u001b[1;31mClick <a href='https://aka.ms/vscodeJupyterKernelCrash'>here</a> for more info. \n",
      "\u001b[1;31mView Jupyter <a href='command:jupyter.viewOutput'>log</a> for further details."
     ]
    }
   ],
   "source": [
    "print(df.columns)"
   ]
  }
 ],
 "metadata": {
  "kernelspec": {
   "display_name": "myenv",
   "language": "python",
   "name": "python3"
  },
  "language_info": {
   "codemirror_mode": {
    "name": "ipython",
    "version": 3
   },
   "file_extension": ".py",
   "mimetype": "text/x-python",
   "name": "python",
   "nbconvert_exporter": "python",
   "pygments_lexer": "ipython3",
   "version": "3.12.2"
  }
 },
 "nbformat": 4,
 "nbformat_minor": 2
}
